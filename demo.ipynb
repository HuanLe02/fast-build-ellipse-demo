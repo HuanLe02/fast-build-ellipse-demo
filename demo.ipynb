{
 "cells": [
  {
   "cell_type": "markdown",
   "id": "a978d9cd-de07-4905-a532-36721450b7e1",
   "metadata": {},
   "source": [
    "## Import"
   ]
  },
  {
   "cell_type": "code",
   "execution_count": 2,
   "id": "5c4e9e47-fc76-4a59-8815-20d04b006a4c",
   "metadata": {},
   "outputs": [],
   "source": [
    "import numpy as np\n",
    "from make_test_data import make_test_image\n",
    "from photutils.isophote import Ellipse, EllipseGeometry\n",
    "\n",
    "#old function\n",
    "from model_old import build_ellipse_model as orig_build_ellipse_model\n",
    "\n",
    "#new function\n",
    "from model import build_ellipse_model as fast_build_ellipse_model"
   ]
  },
  {
   "cell_type": "markdown",
   "id": "66b4a601-6c49-4dfe-9252-35cfd1ba0ef5",
   "metadata": {},
   "source": [
    "## Make simulated data, fit isophote"
   ]
  },
  {
   "cell_type": "code",
   "execution_count": 3,
   "id": "d85a710b-0f1e-4880-97fe-97e765588497",
   "metadata": {},
   "outputs": [],
   "source": [
    "# make test image, fit isophote\n",
    "data = make_test_image(nx=2000, ny=2000, i0=100., sma=500., eps=0.3,\n",
    "                           pa=np.pi/4., noise=0.05, seed=0)\n",
    "g = EllipseGeometry(1000., 1000., 100., 0.3, np.pi/4.)\n",
    "ellipse = Ellipse(data, geometry=g, threshold=1.e5)\n",
    "isophote_list = ellipse.fit_image()"
   ]
  },
  {
   "cell_type": "code",
   "execution_count": 18,
   "id": "5de82060-c63d-4448-b6a5-e91452aba2f3",
   "metadata": {},
   "outputs": [
    {
     "name": "stdout",
     "output_type": "stream",
     "text": [
      "Average of data: 175.11916123012423\n",
      "Median of data: 126.09453678854926\n",
      "Max of data: 38861.20788934868\n",
      "Min of data: 103.96731669580797\n"
     ]
    }
   ],
   "source": [
    "# statistics of data\n",
    "print(\"Average of data: \" + str(np.average(data)))\n",
    "print(\"Median of data: \" + str(np.median(data)))\n",
    "print(\"Max of data: \" + str(np.max(data)))\n",
    "print(\"Min of data: \" + str(np.min(data)))"
   ]
  },
  {
   "cell_type": "markdown",
   "id": "88d483b4-7639-4407-ba7f-d69af3c484b8",
   "metadata": {},
   "source": [
    "## Build model"
   ]
  },
  {
   "cell_type": "code",
   "execution_count": 5,
   "id": "cf2bb5d0-5f04-4832-beb8-c6fb6137b049",
   "metadata": {},
   "outputs": [
    {
     "name": "stdout",
     "output_type": "stream",
     "text": [
      "CPU times: user 11min 52s, sys: 106 ms, total: 11min 52s\n",
      "Wall time: 11min 52s\n"
     ]
    }
   ],
   "source": [
    "%%time\n",
    "# build using original model function\n",
    "model_orig = orig_build_ellipse_model(data.shape, isophote_list, fill=np.mean(data[0:50, 0:50]))"
   ]
  },
  {
   "cell_type": "code",
   "execution_count": 12,
   "id": "dfab454c-cdd8-45f7-af76-1bba4bfdcce0",
   "metadata": {},
   "outputs": [
    {
     "name": "stdout",
     "output_type": "stream",
     "text": [
      "CPU times: user 6.64 s, sys: 20 ms, total: 6.66 s\n",
      "Wall time: 6.66 s\n"
     ]
    }
   ],
   "source": [
    "%%time\n",
    "# build using new function, on 1 thread\n",
    "model_fast_1thread = fast_build_ellipse_model(data.shape, isophote_list, nthreads=1, fill=np.mean(data[0:50, 0:50]))"
   ]
  },
  {
   "cell_type": "code",
   "execution_count": 13,
   "id": "53bac17f-5434-484a-afb3-ea292aad4c40",
   "metadata": {},
   "outputs": [
    {
     "name": "stdout",
     "output_type": "stream",
     "text": [
      "Frobenius norm difference: 0.0\n",
      "|Max difference|: 0.0\n"
     ]
    }
   ],
   "source": [
    "# check difference between model_orig & model_fast_1thread\n",
    "print(\"Frobenius norm difference: \" + str(np.linalg.norm(model_orig - model_fast_1thread)))\n",
    "print(\"|Max difference|: \" + str(np.max(np.abs(model_orig - model_fast_1thread))))"
   ]
  },
  {
   "cell_type": "markdown",
   "id": "4957e7d9-ee69-4f98-aa2a-5aefcc9358ad",
   "metadata": {},
   "source": [
    "=> No difference between old and new model, using 1 thread"
   ]
  },
  {
   "cell_type": "code",
   "execution_count": 14,
   "id": "9efb6900-49c5-4292-8d69-6f10e8fd2290",
   "metadata": {},
   "outputs": [
    {
     "name": "stdout",
     "output_type": "stream",
     "text": [
      "CPU times: user 9.49 s, sys: 620 ms, total: 10.1 s\n",
      "Wall time: 2.27 s\n"
     ]
    }
   ],
   "source": [
    "%%time\n",
    "# build using new function, on 8 thread\n",
    "model_fast_8thread = fast_build_ellipse_model(data.shape, isophote_list, nthreads=8, fill=np.mean(data[0:50, 0:50]))"
   ]
  },
  {
   "cell_type": "code",
   "execution_count": 15,
   "id": "3d2a5e67-135d-4c97-9982-9b42cffb027e",
   "metadata": {},
   "outputs": [
    {
     "name": "stdout",
     "output_type": "stream",
     "text": [
      "Frobenius norm difference: 1.3448026978449904e-11\n",
      "|Max difference|: 7.958078640513122e-13\n"
     ]
    }
   ],
   "source": [
    "# check difference between model_orig & model_fast_1thread\n",
    "print(\"Frobenius norm difference: \" + str(np.linalg.norm(model_orig - model_fast_8thread)))\n",
    "print(\"|Max difference|: \" + str(np.max(np.abs(model_orig - model_fast_8thread))))"
   ]
  },
  {
   "cell_type": "markdown",
   "id": "80f408aa-0966-4f84-8a0c-5e75711240a9",
   "metadata": {},
   "source": [
    "=> very small difference, which is good considering the large magnitude of the data array"
   ]
  }
 ],
 "metadata": {
  "kernelspec": {
   "display_name": "Python 3 (ipykernel)",
   "language": "python",
   "name": "python3"
  },
  "language_info": {
   "codemirror_mode": {
    "name": "ipython",
    "version": 3
   },
   "file_extension": ".py",
   "mimetype": "text/x-python",
   "name": "python",
   "nbconvert_exporter": "python",
   "pygments_lexer": "ipython3",
   "version": "3.8.8"
  }
 },
 "nbformat": 4,
 "nbformat_minor": 5
}
